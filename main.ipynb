{
 "cells": [
  {
   "cell_type": "code",
   "execution_count": null,
   "id": "a1037702",
   "metadata": {},
   "outputs": [
    {
     "ename": "",
     "evalue": "",
     "output_type": "error",
     "traceback": [
      "\u001b[1;31mRunning cells with 'faiss-env (Python 3.10.18)' requires the ipykernel package.\n",
      "\u001b[1;31m<a href='command:jupyter.createPythonEnvAndSelectController'>Create a Python Environment</a> with the required packages.\n",
      "\u001b[1;31mOr install 'ipykernel' using the command: 'conda install -n faiss-env ipykernel --update-deps --force-reinstall'"
     ]
    }
   ],
   "source": [
    "from keras.applications import VGG16, ResNet50"
   ]
  },
  {
   "cell_type": "code",
   "execution_count": null,
   "id": "0a643409",
   "metadata": {},
   "outputs": [],
   "source": [
    "import tensorflow as tf\n",
    "from tensorflow.keras.preprocessing.image import ImageDataGenerator\n",
    "from tensorflow.keras.applications import MobileNetV2\n",
    "from tensorflow.keras.layers import Dense, GlobalAveragePooling2D\n",
    "from tensorflow.keras.models import Model\n",
    "import os\n",
    "\n",
    "train_dir = \"data/\"\n",
    "val_dir "
   ]
  },
  {
   "cell_type": "code",
   "execution_count": null,
   "id": "f13eb819",
   "metadata": {},
   "outputs": [],
   "source": [
    "import os\n",
    "import shutil\n",
    "import random\n",
    "\n",
    "base_dir = \"data\"\n",
    "train_dir = os.path.join(base_dir,\"train\")\n",
    "val_dir = os.path.join(base_dir, \"val\")\n",
    "\n",
    "for folder in [train_dir, val_dir]:\n",
    "    for subfolder in [\"Positive\",\"Negative\"]:\n",
    "        os.makedirs(os.path.join(folder, subfolder), exist_ok=True)\n",
    "\n",
    "train_ratio=0.8\n",
    "\n",
    "for category in [\"Positive\",\"Negative\"]:\n",
    "    category_path = os.path.join(base_dir, category)\n",
    "    images = os.listdir(category_path)\n",
    "    random.shuffle(images)\n",
    "    split_index = int(len(images)*train_ratio)\n",
    "\n",
    "    train_images = images[:split_index]\n",
    "    val_images = images[split_index:]\n",
    "    for img in train_images:\n",
    "        src = os.path.join(category_path, img)\n",
    "        dst = os.path.join(train_dir, category, img)\n",
    "        shutil.move(src, dst)\n",
    "\n",
    "    for img in val_images:\n",
    "        src = os.path.join(category_path, img)\n",
    "        dst = os.path.join(val_dir, category, img)\n",
    "        shutil.move(src, dst)\n",
    "print(\"Dataset generated successfully!\")"
   ]
  },
  {
   "cell_type": "code",
   "execution_count": null,
   "id": "6618f589",
   "metadata": {},
   "outputs": [],
   "source": []
  }
 ],
 "metadata": {
  "kernelspec": {
   "display_name": "faiss-env",
   "language": "python",
   "name": "python3"
  },
  "language_info": {
   "name": "python",
   "version": "3.10.18"
  }
 },
 "nbformat": 4,
 "nbformat_minor": 5
}
